{
 "metadata": {
  "language_info": {
   "codemirror_mode": {
    "name": "ipython",
    "version": 3
   },
   "file_extension": ".py",
   "mimetype": "text/x-python",
   "name": "python",
   "nbconvert_exporter": "python",
   "pygments_lexer": "ipython3",
   "version": "3.6.12"
  },
  "orig_nbformat": 2,
  "kernelspec": {
   "name": "python3612jvsc74a57bd01c462754b80bfae27ff8533978429febe01f64cfc3232f72df5aaa21d69bbb79",
   "display_name": "Python 3.6.12 64-bit ('base': conda)"
  },
  "metadata": {
   "interpreter": {
    "hash": "1c462754b80bfae27ff8533978429febe01f64cfc3232f72df5aaa21d69bbb79"
   }
  }
 },
 "nbformat": 4,
 "nbformat_minor": 2,
 "cells": [
  {
   "cell_type": "code",
   "execution_count": 3,
   "metadata": {},
   "outputs": [],
   "source": [
    "# !pip install yahoo_fin\n",
    "import yahoo_fin.stock_info as si\n",
    "import pickle\n",
    "import pandas as pd"
   ]
  },
  {
   "cell_type": "code",
   "execution_count": 7,
   "metadata": {},
   "outputs": [
    {
     "output_type": "display_data",
     "data": {
      "text/plain": "<IPython.core.display.Javascript object>",
      "application/javascript": "\n        if (window._pyforest_update_imports_cell) { window._pyforest_update_imports_cell('from pathlib import Path'); }\n    "
     },
     "metadata": {}
    },
    {
     "output_type": "execute_result",
     "data": {
      "text/plain": [
       "['EBAY',\n",
       " 'NTLA',\n",
       " 'SMED',\n",
       " 'OKTA',\n",
       " 'ABT',\n",
       " 'SE',\n",
       " 'ALXN',\n",
       " 'LSCC',\n",
       " 'TW',\n",
       " 'NET',\n",
       " 'GWPH',\n",
       " 'STAA',\n",
       " 'HUBS',\n",
       " 'SSP',\n",
       " 'MSFT',\n",
       " 'TPL',\n",
       " 'CRWD',\n",
       " 'FB',\n",
       " 'DFS',\n",
       " 'AAPL']"
      ]
     },
     "metadata": {},
     "execution_count": 7
    }
   ],
   "source": [
    "saveTickers = Path('/home/gordon/gdp/code/portfolio/Forecasting_For_Friends/files/recommendations/')\n",
    "dow_analyst_buys2 = pd.read_pickle(saveTickers / f'rec2_watch_lst_bulk.pkl')\n",
    "dow_analyst_buys2"
   ]
  },
  {
   "cell_type": "code",
   "execution_count": null,
   "metadata": {},
   "outputs": [],
   "source": []
  },
  {
   "cell_type": "code",
   "execution_count": 8,
   "metadata": {},
   "outputs": [],
   "source": [
    "undervalued_large_caps = list(si.get_undervalued_large_caps()['Symbol'])\n",
    "# undervalued_large_caps "
   ]
  },
  {
   "cell_type": "code",
   "execution_count": 15,
   "metadata": {},
   "outputs": [],
   "source": [
    "name = 'undervalued_large_caps_ticker_lst'\n",
    "lst = undervalued_large_caps\n",
    "\n",
    "with open(f\"/home/gordon/gdp/code/portfolio/Forecasting_For_Friends/tickers/{name}.pkl\", \"wb\") as f:\n",
    "    pickle.dump(lst, f)"
   ]
  },
  {
   "cell_type": "code",
   "execution_count": 16,
   "metadata": {},
   "outputs": [
    {
     "output_type": "execute_result",
     "data": {
      "text/plain": [
       "['VIAC',\n",
       " 'HBAN',\n",
       " 'GOLD',\n",
       " 'GM',\n",
       " 'KEY',\n",
       " 'RF',\n",
       " 'HPQ',\n",
       " 'ING',\n",
       " 'EBAY',\n",
       " 'BK',\n",
       " 'PHM',\n",
       " 'DISH',\n",
       " 'PPL',\n",
       " 'SID',\n",
       " 'NEM',\n",
       " 'FITB',\n",
       " 'RKT',\n",
       " 'NUE',\n",
       " 'DHI',\n",
       " 'FE',\n",
       " 'HOLX',\n",
       " 'CFG',\n",
       " 'VOD',\n",
       " 'SBSW',\n",
       " 'ATH',\n",
       " 'BTI',\n",
       " 'ASX',\n",
       " 'STT',\n",
       " 'STLA',\n",
       " 'LEN',\n",
       " 'PGR',\n",
       " 'ALL',\n",
       " 'BG',\n",
       " 'BLDR',\n",
       " 'KKR',\n",
       " 'TEF',\n",
       " 'BBVA',\n",
       " 'ACGL',\n",
       " 'SJM',\n",
       " 'HMC',\n",
       " 'CE',\n",
       " 'EBR',\n",
       " 'MTB',\n",
       " 'BMRN',\n",
       " 'BIIB',\n",
       " 'VIV',\n",
       " 'WRB',\n",
       " 'ORAN',\n",
       " 'DVA',\n",
       " 'BSAC']"
      ]
     },
     "metadata": {},
     "execution_count": 16
    }
   ],
   "source": [
    "with open(f\"/home/gordon/gdp/code/portfolio/Forecasting_For_Friends/tickers/recommendations_{name}.pkl\", \"rb\") as f:\n",
    "    og_rec_list = pickle.load(f)\n",
    "\n",
    "og_rec_list"
   ]
  },
  {
   "cell_type": "code",
   "execution_count": 2,
   "metadata": {},
   "outputs": [
    {
     "output_type": "display_data",
     "data": {
      "text/plain": "<IPython.core.display.Javascript object>",
      "application/javascript": "\n        if (window._pyforest_update_imports_cell) { window._pyforest_update_imports_cell('import pandas as pd'); }\n    "
     },
     "metadata": {}
    },
    {
     "output_type": "execute_result",
     "data": {
      "text/plain": [
       "      Symbol                Name  Price (Intraday)    Change  % Change  \\\n",
       "0    BTC-USD         Bitcoin USD         50,495.13 -1,137.96      -2.2   \n",
       "1    ETH-USD        Ethereum USD          2,317.43    -83.68     -3.49   \n",
       "2    BNB-USD     BinanceCoin USD            509.96      -3.5     -0.68   \n",
       "3    XRP-USD             XRP USD            1.1168   -0.0736     -6.18   \n",
       "4   USDT-USD          Tether USD            1.0002    0.0002      0.02   \n",
       "..       ...                 ...               ...       ...       ...   \n",
       "95   QNT-USD           Quant USD             38.03     -2.84     -6.95   \n",
       "96  MAID-USD    MaidSafeCoin USD            0.9125   -0.0114     -1.23   \n",
       "97   EWT-USD  EnergyWebToken USD              13.4     -1.89    -12.36   \n",
       "98   BCD-USD  BitcoinDiamond USD            2.0855    0.1089      5.51   \n",
       "99  IOTX-USD           IoTeX USD            0.0377   -0.0008     -2.06   \n",
       "\n",
       "          Market Cap  Volume in Currency (Since 0:00 UTC)  \\\n",
       "0  943,733,000,000.0                     87,396,000,000.0   \n",
       "1  267,877,000,000.0                     55,415,000,000.0   \n",
       "2   78,245,000,000.0                      8,742,000,000.0   \n",
       "3   50,708,000,000.0                     20,255,000,000.0   \n",
       "4   49,289,000,000.0                    201,819,000,000.0   \n",
       "..               ...                                  ...   \n",
       "95     459,067,000.0                          7,801,000.0   \n",
       "96     412,962,000.0                          1,710,000.0   \n",
       "97     402,792,000.0                          5,786,000.0   \n",
       "98     388,924,000.0                 33,465,000.000000004   \n",
       "99     363,506,000.0                  65,575,999.99999999   \n",
       "\n",
       "    Volume in Currency (24Hr)  Total Volume All Currencies (24Hr)  \\\n",
       "0            87,396,000,000.0                    87,396,000,000.0   \n",
       "1            55,415,000,000.0                    55,415,000,000.0   \n",
       "2             8,742,000,000.0                     8,742,000,000.0   \n",
       "3            20,255,000,000.0                    20,255,000,000.0   \n",
       "4           201,819,000,000.0                   201,819,000,000.0   \n",
       "..                        ...                                 ...   \n",
       "95                7,801,000.0                         7,801,000.0   \n",
       "96                1,710,000.0                         1,710,000.0   \n",
       "97                5,786,000.0                         5,786,000.0   \n",
       "98       33,465,000.000000004                33,465,000.000000004   \n",
       "99        65,575,999.99999999                 65,575,999.99999999   \n",
       "\n",
       "    Circulating Supply  \n",
       "0         18,690,000.0  \n",
       "1        115,592,000.0  \n",
       "2        153,433,000.0  \n",
       "3     45,404,000,000.0  \n",
       "4     49,281,000,000.0  \n",
       "..                 ...  \n",
       "95        12,073,000.0  \n",
       "96       452,552,000.0  \n",
       "97        30,062,000.0  \n",
       "98       186,493,000.0  \n",
       "99     9,644,000,000.0  \n",
       "\n",
       "[100 rows x 10 columns]"
      ],
      "text/html": "<div>\n<style scoped>\n    .dataframe tbody tr th:only-of-type {\n        vertical-align: middle;\n    }\n\n    .dataframe tbody tr th {\n        vertical-align: top;\n    }\n\n    .dataframe thead th {\n        text-align: right;\n    }\n</style>\n<table border=\"1\" class=\"dataframe\">\n  <thead>\n    <tr style=\"text-align: right;\">\n      <th></th>\n      <th>Symbol</th>\n      <th>Name</th>\n      <th>Price (Intraday)</th>\n      <th>Change</th>\n      <th>% Change</th>\n      <th>Market Cap</th>\n      <th>Volume in Currency (Since 0:00 UTC)</th>\n      <th>Volume in Currency (24Hr)</th>\n      <th>Total Volume All Currencies (24Hr)</th>\n      <th>Circulating Supply</th>\n    </tr>\n  </thead>\n  <tbody>\n    <tr>\n      <th>0</th>\n      <td>BTC-USD</td>\n      <td>Bitcoin USD</td>\n      <td>50,495.13</td>\n      <td>-1,137.96</td>\n      <td>-2.2</td>\n      <td>943,733,000,000.0</td>\n      <td>87,396,000,000.0</td>\n      <td>87,396,000,000.0</td>\n      <td>87,396,000,000.0</td>\n      <td>18,690,000.0</td>\n    </tr>\n    <tr>\n      <th>1</th>\n      <td>ETH-USD</td>\n      <td>Ethereum USD</td>\n      <td>2,317.43</td>\n      <td>-83.68</td>\n      <td>-3.49</td>\n      <td>267,877,000,000.0</td>\n      <td>55,415,000,000.0</td>\n      <td>55,415,000,000.0</td>\n      <td>55,415,000,000.0</td>\n      <td>115,592,000.0</td>\n    </tr>\n    <tr>\n      <th>2</th>\n      <td>BNB-USD</td>\n      <td>BinanceCoin USD</td>\n      <td>509.96</td>\n      <td>-3.5</td>\n      <td>-0.68</td>\n      <td>78,245,000,000.0</td>\n      <td>8,742,000,000.0</td>\n      <td>8,742,000,000.0</td>\n      <td>8,742,000,000.0</td>\n      <td>153,433,000.0</td>\n    </tr>\n    <tr>\n      <th>3</th>\n      <td>XRP-USD</td>\n      <td>XRP USD</td>\n      <td>1.1168</td>\n      <td>-0.0736</td>\n      <td>-6.18</td>\n      <td>50,708,000,000.0</td>\n      <td>20,255,000,000.0</td>\n      <td>20,255,000,000.0</td>\n      <td>20,255,000,000.0</td>\n      <td>45,404,000,000.0</td>\n    </tr>\n    <tr>\n      <th>4</th>\n      <td>USDT-USD</td>\n      <td>Tether USD</td>\n      <td>1.0002</td>\n      <td>0.0002</td>\n      <td>0.02</td>\n      <td>49,289,000,000.0</td>\n      <td>201,819,000,000.0</td>\n      <td>201,819,000,000.0</td>\n      <td>201,819,000,000.0</td>\n      <td>49,281,000,000.0</td>\n    </tr>\n    <tr>\n      <th>...</th>\n      <td>...</td>\n      <td>...</td>\n      <td>...</td>\n      <td>...</td>\n      <td>...</td>\n      <td>...</td>\n      <td>...</td>\n      <td>...</td>\n      <td>...</td>\n      <td>...</td>\n    </tr>\n    <tr>\n      <th>95</th>\n      <td>QNT-USD</td>\n      <td>Quant USD</td>\n      <td>38.03</td>\n      <td>-2.84</td>\n      <td>-6.95</td>\n      <td>459,067,000.0</td>\n      <td>7,801,000.0</td>\n      <td>7,801,000.0</td>\n      <td>7,801,000.0</td>\n      <td>12,073,000.0</td>\n    </tr>\n    <tr>\n      <th>96</th>\n      <td>MAID-USD</td>\n      <td>MaidSafeCoin USD</td>\n      <td>0.9125</td>\n      <td>-0.0114</td>\n      <td>-1.23</td>\n      <td>412,962,000.0</td>\n      <td>1,710,000.0</td>\n      <td>1,710,000.0</td>\n      <td>1,710,000.0</td>\n      <td>452,552,000.0</td>\n    </tr>\n    <tr>\n      <th>97</th>\n      <td>EWT-USD</td>\n      <td>EnergyWebToken USD</td>\n      <td>13.4</td>\n      <td>-1.89</td>\n      <td>-12.36</td>\n      <td>402,792,000.0</td>\n      <td>5,786,000.0</td>\n      <td>5,786,000.0</td>\n      <td>5,786,000.0</td>\n      <td>30,062,000.0</td>\n    </tr>\n    <tr>\n      <th>98</th>\n      <td>BCD-USD</td>\n      <td>BitcoinDiamond USD</td>\n      <td>2.0855</td>\n      <td>0.1089</td>\n      <td>5.51</td>\n      <td>388,924,000.0</td>\n      <td>33,465,000.000000004</td>\n      <td>33,465,000.000000004</td>\n      <td>33,465,000.000000004</td>\n      <td>186,493,000.0</td>\n    </tr>\n    <tr>\n      <th>99</th>\n      <td>IOTX-USD</td>\n      <td>IoTeX USD</td>\n      <td>0.0377</td>\n      <td>-0.0008</td>\n      <td>-2.06</td>\n      <td>363,506,000.0</td>\n      <td>65,575,999.99999999</td>\n      <td>65,575,999.99999999</td>\n      <td>65,575,999.99999999</td>\n      <td>9,644,000,000.0</td>\n    </tr>\n  </tbody>\n</table>\n<p>100 rows × 10 columns</p>\n</div>"
     },
     "metadata": {},
     "execution_count": 2
    }
   ],
   "source": [
    "pd.options.display.float_format = '{:,}'.format\n",
    "si.get_top_crypto()"
   ]
  },
  {
   "cell_type": "code",
   "execution_count": 3,
   "metadata": {},
   "outputs": [
    {
     "output_type": "execute_result",
     "data": {
      "text/plain": [
       "   Symbol                                               Name  Change  \\\n",
       "0   HSFNX   Hennessy Small Cap Financial Fund Investor Class    1.31   \n",
       "1   HISFX  Hennessy Small Cap Financial Fund Institutiona...    0.77   \n",
       "2   RMBNX         RMB Mendon Financial Services Fund Class C    1.36   \n",
       "3   MITEX  Matthews Asia Innovators Fund Institutional Cl...     0.8   \n",
       "4   NESIX  Needham Small Cap Growth Fund Institutional Class    0.85   \n",
       "5   RMBKX         RMB Mendon Financial Services Fund Class A    1.52   \n",
       "6   MATFX  Matthews Asia Innovators Fund Investor Class S...    0.79   \n",
       "7   NEAIX  Needham Aggressive Growth Fund Institutional C...    0.96   \n",
       "8   NEAGX        Needham Aggressive Growth Fund Retail Class    0.93   \n",
       "9   MIGPX  Morgan Stanley Institutional Fund, Inc. Global...    0.85   \n",
       "10  MIGIX  Morgan Stanley Institutional Fund, Inc. Global...    0.87   \n",
       "11  MSPTX  Morgan Stanley Institutional Fund, Inc. Global...    0.78   \n",
       "12  RYVYX          Rydex NASDAQ-100 2x Strategy Fund Class H    9.55   \n",
       "13  RYVLX          Rydex NASDAQ-100 2x Strategy Fund Class A    9.54   \n",
       "14  RYCCX          Rydex NASDAQ-100 2x Strategy Fund Class C    7.18   \n",
       "15  ILLLX           Transamerica Capital Growth Fund Class C     1.0   \n",
       "16  TDVFX                              Towle Deep Value Fund    0.47   \n",
       "17  LMVYX   Lord Abbett Focused Small Cap Value Fund Class I    0.81   \n",
       "18  DXQLX  Direxion Monthly NASDAQ-100 Bull 2X Fund Inves...    1.59   \n",
       "19  NEJYX  Natixis Funds Trust I Vaughan Nelson Small Cap...    0.49   \n",
       "20  NEFJX  Natixis Funds Trust I Vaughan Nelson Small Cap...    0.46   \n",
       "21  MMEYX           Victory Integrity Discovery Fund Class Y    1.09   \n",
       "22  MMEAX           Victory Integrity Discovery Fund Class A    0.98   \n",
       "23  MMECX           Victory Integrity Discovery Fund Class C    0.66   \n",
       "24  MMERX           Victory Integrity Discovery Fund Class R    0.91   \n",
       "\n",
       "    % Change  Price (Intraday)  50 Day Average  200 Day Average 3-Mo Return  \\\n",
       "0       4.56             28.71           29.52            23.85      20.97%   \n",
       "1       4.56             16.88           17.36            14.07      21.08%   \n",
       "2       2.99             45.51           45.74            37.22      25.39%   \n",
       "3       2.98             26.88           27.07            26.61      -5.85%   \n",
       "4       2.97             28.59           28.92            27.16       7.62%   \n",
       "5       2.97             51.25           51.48            41.84      25.63%   \n",
       "6       2.96             26.66           26.85             26.4      -5.86%   \n",
       "7       2.73             35.12           34.94            32.99       7.23%   \n",
       "8       2.73             34.07           33.91            32.07       7.06%   \n",
       "9       2.65             32.02           31.98            32.14      -2.67%   \n",
       "10      2.65             32.87           32.83            32.96      -2.57%   \n",
       "11      2.62             29.77           29.75            29.96      -2.83%   \n",
       "12      2.58            370.32          345.98            332.3       1.43%   \n",
       "13      2.58            370.47          346.12           332.43       1.42%   \n",
       "14      2.57            279.32          261.08           253.52       1.25%   \n",
       "15      2.51             39.81           39.18            39.98       0.05%   \n",
       "16      2.51             18.76           18.92            15.74      22.00%   \n",
       "17      2.49             32.55           32.64            27.62      15.96%   \n",
       "18      2.46             64.62            60.3            57.78      10.96%   \n",
       "19      2.43             20.14            19.9            17.68      12.22%   \n",
       "20       2.4             19.19           18.96            16.84      12.16%   \n",
       "21      2.31             47.16           47.58            39.42      20.76%   \n",
       "22      2.31             42.44           42.83            35.51      20.63%   \n",
       "23      2.31             28.63           28.91            24.01      20.40%   \n",
       "24       2.3             39.51           39.88             33.1      20.51%   \n",
       "\n",
       "   YTD Return  \n",
       "0      31.21%  \n",
       "1      31.43%  \n",
       "2      33.38%  \n",
       "3      -0.74%  \n",
       "4       7.62%  \n",
       "5      33.66%  \n",
       "6      -0.75%  \n",
       "7       7.23%  \n",
       "8       7.06%  \n",
       "9      -0.52%  \n",
       "10     -0.44%  \n",
       "11     -0.72%  \n",
       "12      1.43%  \n",
       "13      1.42%  \n",
       "14      1.25%  \n",
       "15      3.81%  \n",
       "16     29.04%  \n",
       "17     22.96%  \n",
       "18     14.66%  \n",
       "19     12.22%  \n",
       "20     12.16%  \n",
       "21     27.53%  \n",
       "22     27.42%  \n",
       "23     27.09%  \n",
       "24     27.25%  "
      ],
      "text/html": "<div>\n<style scoped>\n    .dataframe tbody tr th:only-of-type {\n        vertical-align: middle;\n    }\n\n    .dataframe tbody tr th {\n        vertical-align: top;\n    }\n\n    .dataframe thead th {\n        text-align: right;\n    }\n</style>\n<table border=\"1\" class=\"dataframe\">\n  <thead>\n    <tr style=\"text-align: right;\">\n      <th></th>\n      <th>Symbol</th>\n      <th>Name</th>\n      <th>Change</th>\n      <th>% Change</th>\n      <th>Price (Intraday)</th>\n      <th>50 Day Average</th>\n      <th>200 Day Average</th>\n      <th>3-Mo Return</th>\n      <th>YTD Return</th>\n    </tr>\n  </thead>\n  <tbody>\n    <tr>\n      <th>0</th>\n      <td>HSFNX</td>\n      <td>Hennessy Small Cap Financial Fund Investor Class</td>\n      <td>1.31</td>\n      <td>4.56</td>\n      <td>28.71</td>\n      <td>29.52</td>\n      <td>23.85</td>\n      <td>20.97%</td>\n      <td>31.21%</td>\n    </tr>\n    <tr>\n      <th>1</th>\n      <td>HISFX</td>\n      <td>Hennessy Small Cap Financial Fund Institutiona...</td>\n      <td>0.77</td>\n      <td>4.56</td>\n      <td>16.88</td>\n      <td>17.36</td>\n      <td>14.07</td>\n      <td>21.08%</td>\n      <td>31.43%</td>\n    </tr>\n    <tr>\n      <th>2</th>\n      <td>RMBNX</td>\n      <td>RMB Mendon Financial Services Fund Class C</td>\n      <td>1.36</td>\n      <td>2.99</td>\n      <td>45.51</td>\n      <td>45.74</td>\n      <td>37.22</td>\n      <td>25.39%</td>\n      <td>33.38%</td>\n    </tr>\n    <tr>\n      <th>3</th>\n      <td>MITEX</td>\n      <td>Matthews Asia Innovators Fund Institutional Cl...</td>\n      <td>0.8</td>\n      <td>2.98</td>\n      <td>26.88</td>\n      <td>27.07</td>\n      <td>26.61</td>\n      <td>-5.85%</td>\n      <td>-0.74%</td>\n    </tr>\n    <tr>\n      <th>4</th>\n      <td>NESIX</td>\n      <td>Needham Small Cap Growth Fund Institutional Class</td>\n      <td>0.85</td>\n      <td>2.97</td>\n      <td>28.59</td>\n      <td>28.92</td>\n      <td>27.16</td>\n      <td>7.62%</td>\n      <td>7.62%</td>\n    </tr>\n    <tr>\n      <th>5</th>\n      <td>RMBKX</td>\n      <td>RMB Mendon Financial Services Fund Class A</td>\n      <td>1.52</td>\n      <td>2.97</td>\n      <td>51.25</td>\n      <td>51.48</td>\n      <td>41.84</td>\n      <td>25.63%</td>\n      <td>33.66%</td>\n    </tr>\n    <tr>\n      <th>6</th>\n      <td>MATFX</td>\n      <td>Matthews Asia Innovators Fund Investor Class S...</td>\n      <td>0.79</td>\n      <td>2.96</td>\n      <td>26.66</td>\n      <td>26.85</td>\n      <td>26.4</td>\n      <td>-5.86%</td>\n      <td>-0.75%</td>\n    </tr>\n    <tr>\n      <th>7</th>\n      <td>NEAIX</td>\n      <td>Needham Aggressive Growth Fund Institutional C...</td>\n      <td>0.96</td>\n      <td>2.73</td>\n      <td>35.12</td>\n      <td>34.94</td>\n      <td>32.99</td>\n      <td>7.23%</td>\n      <td>7.23%</td>\n    </tr>\n    <tr>\n      <th>8</th>\n      <td>NEAGX</td>\n      <td>Needham Aggressive Growth Fund Retail Class</td>\n      <td>0.93</td>\n      <td>2.73</td>\n      <td>34.07</td>\n      <td>33.91</td>\n      <td>32.07</td>\n      <td>7.06%</td>\n      <td>7.06%</td>\n    </tr>\n    <tr>\n      <th>9</th>\n      <td>MIGPX</td>\n      <td>Morgan Stanley Institutional Fund, Inc. Global...</td>\n      <td>0.85</td>\n      <td>2.65</td>\n      <td>32.02</td>\n      <td>31.98</td>\n      <td>32.14</td>\n      <td>-2.67%</td>\n      <td>-0.52%</td>\n    </tr>\n    <tr>\n      <th>10</th>\n      <td>MIGIX</td>\n      <td>Morgan Stanley Institutional Fund, Inc. Global...</td>\n      <td>0.87</td>\n      <td>2.65</td>\n      <td>32.87</td>\n      <td>32.83</td>\n      <td>32.96</td>\n      <td>-2.57%</td>\n      <td>-0.44%</td>\n    </tr>\n    <tr>\n      <th>11</th>\n      <td>MSPTX</td>\n      <td>Morgan Stanley Institutional Fund, Inc. Global...</td>\n      <td>0.78</td>\n      <td>2.62</td>\n      <td>29.77</td>\n      <td>29.75</td>\n      <td>29.96</td>\n      <td>-2.83%</td>\n      <td>-0.72%</td>\n    </tr>\n    <tr>\n      <th>12</th>\n      <td>RYVYX</td>\n      <td>Rydex NASDAQ-100 2x Strategy Fund Class H</td>\n      <td>9.55</td>\n      <td>2.58</td>\n      <td>370.32</td>\n      <td>345.98</td>\n      <td>332.3</td>\n      <td>1.43%</td>\n      <td>1.43%</td>\n    </tr>\n    <tr>\n      <th>13</th>\n      <td>RYVLX</td>\n      <td>Rydex NASDAQ-100 2x Strategy Fund Class A</td>\n      <td>9.54</td>\n      <td>2.58</td>\n      <td>370.47</td>\n      <td>346.12</td>\n      <td>332.43</td>\n      <td>1.42%</td>\n      <td>1.42%</td>\n    </tr>\n    <tr>\n      <th>14</th>\n      <td>RYCCX</td>\n      <td>Rydex NASDAQ-100 2x Strategy Fund Class C</td>\n      <td>7.18</td>\n      <td>2.57</td>\n      <td>279.32</td>\n      <td>261.08</td>\n      <td>253.52</td>\n      <td>1.25%</td>\n      <td>1.25%</td>\n    </tr>\n    <tr>\n      <th>15</th>\n      <td>ILLLX</td>\n      <td>Transamerica Capital Growth Fund Class C</td>\n      <td>1.0</td>\n      <td>2.51</td>\n      <td>39.81</td>\n      <td>39.18</td>\n      <td>39.98</td>\n      <td>0.05%</td>\n      <td>3.81%</td>\n    </tr>\n    <tr>\n      <th>16</th>\n      <td>TDVFX</td>\n      <td>Towle Deep Value Fund</td>\n      <td>0.47</td>\n      <td>2.51</td>\n      <td>18.76</td>\n      <td>18.92</td>\n      <td>15.74</td>\n      <td>22.00%</td>\n      <td>29.04%</td>\n    </tr>\n    <tr>\n      <th>17</th>\n      <td>LMVYX</td>\n      <td>Lord Abbett Focused Small Cap Value Fund Class I</td>\n      <td>0.81</td>\n      <td>2.49</td>\n      <td>32.55</td>\n      <td>32.64</td>\n      <td>27.62</td>\n      <td>15.96%</td>\n      <td>22.96%</td>\n    </tr>\n    <tr>\n      <th>18</th>\n      <td>DXQLX</td>\n      <td>Direxion Monthly NASDAQ-100 Bull 2X Fund Inves...</td>\n      <td>1.59</td>\n      <td>2.46</td>\n      <td>64.62</td>\n      <td>60.3</td>\n      <td>57.78</td>\n      <td>10.96%</td>\n      <td>14.66%</td>\n    </tr>\n    <tr>\n      <th>19</th>\n      <td>NEJYX</td>\n      <td>Natixis Funds Trust I Vaughan Nelson Small Cap...</td>\n      <td>0.49</td>\n      <td>2.43</td>\n      <td>20.14</td>\n      <td>19.9</td>\n      <td>17.68</td>\n      <td>12.22%</td>\n      <td>12.22%</td>\n    </tr>\n    <tr>\n      <th>20</th>\n      <td>NEFJX</td>\n      <td>Natixis Funds Trust I Vaughan Nelson Small Cap...</td>\n      <td>0.46</td>\n      <td>2.4</td>\n      <td>19.19</td>\n      <td>18.96</td>\n      <td>16.84</td>\n      <td>12.16%</td>\n      <td>12.16%</td>\n    </tr>\n    <tr>\n      <th>21</th>\n      <td>MMEYX</td>\n      <td>Victory Integrity Discovery Fund Class Y</td>\n      <td>1.09</td>\n      <td>2.31</td>\n      <td>47.16</td>\n      <td>47.58</td>\n      <td>39.42</td>\n      <td>20.76%</td>\n      <td>27.53%</td>\n    </tr>\n    <tr>\n      <th>22</th>\n      <td>MMEAX</td>\n      <td>Victory Integrity Discovery Fund Class A</td>\n      <td>0.98</td>\n      <td>2.31</td>\n      <td>42.44</td>\n      <td>42.83</td>\n      <td>35.51</td>\n      <td>20.63%</td>\n      <td>27.42%</td>\n    </tr>\n    <tr>\n      <th>23</th>\n      <td>MMECX</td>\n      <td>Victory Integrity Discovery Fund Class C</td>\n      <td>0.66</td>\n      <td>2.31</td>\n      <td>28.63</td>\n      <td>28.91</td>\n      <td>24.01</td>\n      <td>20.40%</td>\n      <td>27.09%</td>\n    </tr>\n    <tr>\n      <th>24</th>\n      <td>MMERX</td>\n      <td>Victory Integrity Discovery Fund Class R</td>\n      <td>0.91</td>\n      <td>2.3</td>\n      <td>39.51</td>\n      <td>39.88</td>\n      <td>33.1</td>\n      <td>20.51%</td>\n      <td>27.25%</td>\n    </tr>\n  </tbody>\n</table>\n</div>"
     },
     "metadata": {},
     "execution_count": 3
    }
   ],
   "source": [
    "si.get_mutual_fund()"
   ]
  },
  {
   "cell_type": "code",
   "execution_count": null,
   "metadata": {},
   "outputs": [],
   "source": []
  }
 ]
}